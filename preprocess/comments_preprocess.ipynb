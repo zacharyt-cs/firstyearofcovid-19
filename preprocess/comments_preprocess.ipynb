{
 "metadata": {
  "language_info": {
   "codemirror_mode": {
    "name": "ipython",
    "version": 3
   },
   "file_extension": ".py",
   "mimetype": "text/x-python",
   "name": "python",
   "nbconvert_exporter": "python",
   "pygments_lexer": "ipython3",
   "version": "3.7.6"
  },
  "orig_nbformat": 2,
  "kernelspec": {
   "name": "python376jvsc74a57bd07839cf4c65842d51d8727e8d31cc7b71e238461db52811f472cb074731c49f23",
   "display_name": "Python 3.7.6 64-bit ('base': conda)"
  }
 },
 "nbformat": 4,
 "nbformat_minor": 2,
 "cells": [
  {
   "cell_type": "code",
   "execution_count": 1,
   "metadata": {},
   "outputs": [],
   "source": [
    "import pandas as pd\n",
    "import re\n",
    "from unidecode import unidecode\n",
    "import datetime\n",
    "import plotly.express as px\n",
    "\n",
    "pd.set_option('max_colwidth', None)"
   ]
  },
  {
   "cell_type": "code",
   "execution_count": 2,
   "metadata": {},
   "outputs": [],
   "source": [
    "df = pd.read_csv('dataset\\csv\\coronavirus_comments.csv')"
   ]
  },
  {
   "cell_type": "code",
   "execution_count": 3,
   "metadata": {},
   "outputs": [
    {
     "output_type": "execute_result",
     "data": {
      "text/plain": [
       "Index(['id', 'author', 'body', 'score', 'total_awards_received', 'created_utc',\n",
       "       'parent_id', 'permalink'],\n",
       "      dtype='object')"
      ]
     },
     "metadata": {},
     "execution_count": 3
    }
   ],
   "source": [
    "df.columns"
   ]
  },
  {
   "cell_type": "code",
   "execution_count": 4,
   "metadata": {},
   "outputs": [],
   "source": [
    "# Do not need parent_id and permalink\n",
    "df.drop(['parent_id', 'permalink'], axis=1, inplace=True)"
   ]
  },
  {
   "cell_type": "code",
   "execution_count": 5,
   "metadata": {},
   "outputs": [
    {
     "output_type": "execute_result",
     "data": {
      "text/plain": [
       "        id             author  \\\n",
       "0  ff4r0j3  GreedyLeadership1   \n",
       "1  ff4vilk          fairfax80   \n",
       "2  ff4ylul        arm_channel   \n",
       "3  ff5akx0      DennisShapiro   \n",
       "4  ff5o76t         CLO_Junkie   \n",
       "\n",
       "                                                                                                                                                                                                                                                                                         body  \\\n",
       "0                                                                                                                                                                                                                                                                                         yes   \n",
       "1                                                                                                                                                                                     what about all the e-commerce happening on AliExpress?  Can products coming from China be contaminated?   \n",
       "2                                                                            That depends on many factors.  If someone who is contaminated the goods handled the products, then the answer would be yes. Otherwise the likelihood is low especially if the goods are not perishable products.   \n",
       "3  Ahhh sweet sweet purge !!\\n\\n Ever played \"plague inc.\"\\n\\nIt's fun! You get to be a virus and evolve ahead of the WHO and infect and destroy the world! \\n\\nCoronavirus is respiratory. Hard to go global with it. Could be done.. Hmm I'll boot up the app and design and get back to ya   \n",
       "4                                                                                                                                                                                                                                                                                /r/China_Flu   \n",
       "\n",
       "   score  total_awards_received  created_utc  \n",
       "0      1                      0   1579570358  \n",
       "1      1                      0   1579573443  \n",
       "2      1                      0   1579575582  \n",
       "3      1                      0   1579585315  \n",
       "4      1                      0   1579602851  "
      ],
      "text/html": "<div>\n<style scoped>\n    .dataframe tbody tr th:only-of-type {\n        vertical-align: middle;\n    }\n\n    .dataframe tbody tr th {\n        vertical-align: top;\n    }\n\n    .dataframe thead th {\n        text-align: right;\n    }\n</style>\n<table border=\"1\" class=\"dataframe\">\n  <thead>\n    <tr style=\"text-align: right;\">\n      <th></th>\n      <th>id</th>\n      <th>author</th>\n      <th>body</th>\n      <th>score</th>\n      <th>total_awards_received</th>\n      <th>created_utc</th>\n    </tr>\n  </thead>\n  <tbody>\n    <tr>\n      <th>0</th>\n      <td>ff4r0j3</td>\n      <td>GreedyLeadership1</td>\n      <td>yes</td>\n      <td>1</td>\n      <td>0</td>\n      <td>1579570358</td>\n    </tr>\n    <tr>\n      <th>1</th>\n      <td>ff4vilk</td>\n      <td>fairfax80</td>\n      <td>what about all the e-commerce happening on AliExpress?  Can products coming from China be contaminated?</td>\n      <td>1</td>\n      <td>0</td>\n      <td>1579573443</td>\n    </tr>\n    <tr>\n      <th>2</th>\n      <td>ff4ylul</td>\n      <td>arm_channel</td>\n      <td>That depends on many factors.  If someone who is contaminated the goods handled the products, then the answer would be yes. Otherwise the likelihood is low especially if the goods are not perishable products.</td>\n      <td>1</td>\n      <td>0</td>\n      <td>1579575582</td>\n    </tr>\n    <tr>\n      <th>3</th>\n      <td>ff5akx0</td>\n      <td>DennisShapiro</td>\n      <td>Ahhh sweet sweet purge !!\\n\\n Ever played \"plague inc.\"\\n\\nIt's fun! You get to be a virus and evolve ahead of the WHO and infect and destroy the world! \\n\\nCoronavirus is respiratory. Hard to go global with it. Could be done.. Hmm I'll boot up the app and design and get back to ya</td>\n      <td>1</td>\n      <td>0</td>\n      <td>1579585315</td>\n    </tr>\n    <tr>\n      <th>4</th>\n      <td>ff5o76t</td>\n      <td>CLO_Junkie</td>\n      <td>/r/China_Flu</td>\n      <td>1</td>\n      <td>0</td>\n      <td>1579602851</td>\n    </tr>\n  </tbody>\n</table>\n</div>"
     },
     "metadata": {},
     "execution_count": 5
    }
   ],
   "source": [
    "df.head(5)"
   ]
  },
  {
   "source": [
    "# Label Data\n",
    "-----"
   ],
   "cell_type": "markdown",
   "metadata": {}
  },
  {
   "cell_type": "code",
   "execution_count": 12,
   "metadata": {},
   "outputs": [
    {
     "output_type": "execute_result",
     "data": {
      "text/plain": [
       "(22, 6)"
      ]
     },
     "metadata": {},
     "execution_count": 12
    }
   ],
   "source": [
    "df[df['body'].isna()].shape"
   ]
  },
  {
   "cell_type": "code",
   "execution_count": 49,
   "metadata": {},
   "outputs": [],
   "source": [
    "# Replace NAN in body with empty string\n",
    "df['body'].fillna('', inplace=True)"
   ]
  },
  {
   "cell_type": "code",
   "execution_count": 50,
   "metadata": {},
   "outputs": [],
   "source": [
    "# Label deleted comments\n",
    "df.loc[df['body'] == '[deleted]', 'label'] = 'deleted'"
   ]
  },
  {
   "cell_type": "code",
   "execution_count": 51,
   "metadata": {},
   "outputs": [],
   "source": [
    "# Label removed comments\n",
    "df.loc[df['body'] == '[removed]', 'label'] = 'removed'"
   ]
  },
  {
   "cell_type": "code",
   "execution_count": 52,
   "metadata": {},
   "outputs": [],
   "source": [
    "# Label bot comments\n",
    "df.loc[df['author'] == 'AutoModerator', 'label'] = 'bot'\n",
    "df.loc[df['author'].str.contains(r'[bB][0oO][tT]\\b'), 'label'] = 'bot'\n",
    "df.loc[df['author'] == 'dadbot_2', 'label'] = 'bot'\n",
    "df.loc[df['author'] == 'coronabot22', 'label'] = 'bot'\n",
    "df.loc[df['author'] == 'B0tRank', 'label'] = 'bot'\n",
    "df.loc[df['body'].str.contains(r'comment has been removed'), 'label'] = 'bot'\n",
    "df.loc[df['body'].str.contains(r'submission has been removed'), 'label'] = 'bot'\n",
    "df.loc[df['body'].str.contains(r'post has been removed'), 'label'] = 'bot'"
   ]
  },
  {
   "cell_type": "code",
   "execution_count": 56,
   "metadata": {},
   "outputs": [],
   "source": [
    "# Label duplicate data\n",
    "\n",
    "# Keep single copy of duplicate with max score and label the remaining duplicates.\n",
    "score_maxes = df.groupby(['author', 'body']).score.transform(max)\n",
    "df.loc[(df.score != score_maxes) & df.label.isna(), 'label'] = 'duplicate'\n",
    "# If there is no max, keep one and label the remaining as duplicate.\n",
    "df.loc[df.duplicated(['author', 'body'], keep='first') & df.label.isna(), 'label'] = 'duplicate'"
   ]
  },
  {
   "cell_type": "code",
   "execution_count": 66,
   "metadata": {},
   "outputs": [],
   "source": [
    "# Label remaining data\n",
    "df.loc[df['label'].isna(), 'label'] = 'comment'"
   ]
  },
  {
   "source": [
    "# Data Cleaning of 'body'\n",
    "-----"
   ],
   "cell_type": "markdown",
   "metadata": {}
  },
  {
   "cell_type": "code",
   "execution_count": 72,
   "metadata": {},
   "outputs": [],
   "source": [
    "df2 = df[df.label == 'comment']"
   ]
  },
  {
   "cell_type": "code",
   "execution_count": 74,
   "metadata": {},
   "outputs": [],
   "source": [
    "# Remove \\n\n",
    "df2['body'].replace(regex=r'(\\n)+', value='', inplace=True)"
   ]
  },
  {
   "cell_type": "code",
   "execution_count": 75,
   "metadata": {},
   "outputs": [],
   "source": [
    "# Remove URLs\n",
    "df2['body'].replace(regex=r'http\\S+|www\\S+', value='', inplace=True)"
   ]
  },
  {
   "cell_type": "code",
   "execution_count": 78,
   "metadata": {},
   "outputs": [],
   "source": [
    "df2['body'].replace(regex={r'&amp;': '&', r'&lt;': '<', r'&gt;': '>'}, inplace=True)\n",
    "df2['body'].replace(regex={r'\\s&\\s': ' and '}, inplace=True)"
   ]
  },
  {
   "cell_type": "code",
   "execution_count": 79,
   "metadata": {},
   "outputs": [],
   "source": [
    "# Function to replace/remove HTML encodings\n",
    "from io import StringIO\n",
    "from html.parser import HTMLParser\n",
    "\n",
    "class MLStripper(HTMLParser):\n",
    "    def __init__(self):\n",
    "        super().__init__()\n",
    "        self.reset()\n",
    "        self.strict = False\n",
    "        self.convert_charrefs= True\n",
    "        self.text = StringIO()\n",
    "    def handle_data(self, d):\n",
    "        self.text.write(d)\n",
    "    def get_data(self):\n",
    "        return self.text.getvalue()\n",
    "\n",
    "def strip_tags(html):\n",
    "    s = MLStripper()\n",
    "    s.feed(html)\n",
    "    return s.get_data()"
   ]
  },
  {
   "cell_type": "code",
   "execution_count": 84,
   "metadata": {},
   "outputs": [],
   "source": [
    "# Remove HTML tags\n",
    "df2['body'] = df2['body'].map(strip_tags)"
   ]
  },
  {
   "cell_type": "code",
   "execution_count": 85,
   "metadata": {},
   "outputs": [],
   "source": [
    "# Remove parenthesis (), brackets [], {} and the contents within\n",
    "df2['body'].replace(regex=r'[([{].*[)\\]}]', value='', inplace=True)"
   ]
  },
  {
   "cell_type": "code",
   "execution_count": 87,
   "metadata": {},
   "outputs": [],
   "source": [
    "# Replace curse words\n",
    "df2['body'].replace(regex={r'(s|S)[h$@#*%!]{2}(t|T)': 'shit', r'(f|F)[$@#*%!cC]{2}[$@#*%!kK]': 'fuck', r'(b|B)ulls?[^\\d\\s]{3,}': 'bullshit'}, inplace=True)"
   ]
  },
  {
   "cell_type": "code",
   "execution_count": 88,
   "metadata": {},
   "outputs": [],
   "source": [
    "# Standardise 'US' and 'UK'\n",
    "df2['body'].replace(regex={r'\\b(USA|U.S.A|u.s|usa)\\b': 'US', r'\\b(uk|U.K|u.k)\\b': 'UK'}, inplace=True)"
   ]
  },
  {
   "cell_type": "code",
   "execution_count": 89,
   "metadata": {},
   "outputs": [],
   "source": [
    "# Replace email addresses\n",
    "df2['body'].replace(regex={r'\\S+@\\w+(\\.\\w+)+': ''}, inplace=True)"
   ]
  },
  {
   "cell_type": "code",
   "execution_count": 93,
   "metadata": {},
   "outputs": [],
   "source": [
    "# Remove all single and double quotes, except contractions\n",
    "df2['body'].replace(regex={r'[\\'\\\"]\\B|\\B[\\'\\\"]|(\\d+[\\'\\\"])+(\\d*)': ''}, inplace=True)"
   ]
  },
  {
   "cell_type": "code",
   "execution_count": 99,
   "metadata": {},
   "outputs": [],
   "source": [
    "# Remove the rest of special characters and digits\n",
    "df2['body'].replace(regex={r'[^A-Za-z !?\\']': ' '}, inplace=True)"
   ]
  },
  {
   "cell_type": "code",
   "execution_count": 100,
   "metadata": {},
   "outputs": [],
   "source": [
    "# Remove excess whitespace\n",
    "df2['body'] = df2['body'].str.strip()\n",
    "df2['body'].replace(regex={r'\\s{2,}': ' '}, inplace=True)"
   ]
  },
  {
   "cell_type": "code",
   "execution_count": 103,
   "metadata": {},
   "outputs": [
    {
     "output_type": "execute_result",
     "data": {
      "text/plain": [
       "              id                author body  score  total_awards_received  \\\n",
       "82       ffc8u9e  JohanesYamakawa            1      0                       \n",
       "124      ffcsran  bunnypirateholly           1      0                       \n",
       "134      ffcxdz4  pummers88                  1      0                       \n",
       "239      ffdkdxg  redditknees                1      0                       \n",
       "244      ffdm0ot  kimmey12                   1      0                       \n",
       "...          ...       ...             ..   ..     ..                       \n",
       "9411809  glgve5w  Viewfromthe31stfloor      -1      0                       \n",
       "9412094  glgzwxu  Viewfromthe31stfloor       2      0                       \n",
       "9412200  glh1zdh  Pixel3aXL                  1      0                       \n",
       "9412259  glh33fd  Charlatanism               3      0                       \n",
       "9412588  glh9tyn  UncleLongHair0             1      0                       \n",
       "\n",
       "         created_utc    label  \n",
       "82       1579794180   comment  \n",
       "124      1579806506   comment  \n",
       "134      1579809253   comment  \n",
       "239      1579822735   comment  \n",
       "244      1579823734   comment  \n",
       "...             ...       ...  \n",
       "9411809  1612088664   comment  \n",
       "9412094  1612093114   comment  \n",
       "9412200  1612095081   comment  \n",
       "9412259  1612096101   comment  \n",
       "9412588  1612101280   comment  \n",
       "\n",
       "[60831 rows x 7 columns]"
      ],
      "text/html": "<div>\n<style scoped>\n    .dataframe tbody tr th:only-of-type {\n        vertical-align: middle;\n    }\n\n    .dataframe tbody tr th {\n        vertical-align: top;\n    }\n\n    .dataframe thead th {\n        text-align: right;\n    }\n</style>\n<table border=\"1\" class=\"dataframe\">\n  <thead>\n    <tr style=\"text-align: right;\">\n      <th></th>\n      <th>id</th>\n      <th>author</th>\n      <th>body</th>\n      <th>score</th>\n      <th>total_awards_received</th>\n      <th>created_utc</th>\n      <th>label</th>\n    </tr>\n  </thead>\n  <tbody>\n    <tr>\n      <th>82</th>\n      <td>ffc8u9e</td>\n      <td>JohanesYamakawa</td>\n      <td></td>\n      <td>1</td>\n      <td>0</td>\n      <td>1579794180</td>\n      <td>comment</td>\n    </tr>\n    <tr>\n      <th>124</th>\n      <td>ffcsran</td>\n      <td>bunnypirateholly</td>\n      <td></td>\n      <td>1</td>\n      <td>0</td>\n      <td>1579806506</td>\n      <td>comment</td>\n    </tr>\n    <tr>\n      <th>134</th>\n      <td>ffcxdz4</td>\n      <td>pummers88</td>\n      <td></td>\n      <td>1</td>\n      <td>0</td>\n      <td>1579809253</td>\n      <td>comment</td>\n    </tr>\n    <tr>\n      <th>239</th>\n      <td>ffdkdxg</td>\n      <td>redditknees</td>\n      <td></td>\n      <td>1</td>\n      <td>0</td>\n      <td>1579822735</td>\n      <td>comment</td>\n    </tr>\n    <tr>\n      <th>244</th>\n      <td>ffdm0ot</td>\n      <td>kimmey12</td>\n      <td></td>\n      <td>1</td>\n      <td>0</td>\n      <td>1579823734</td>\n      <td>comment</td>\n    </tr>\n    <tr>\n      <th>...</th>\n      <td>...</td>\n      <td>...</td>\n      <td>...</td>\n      <td>...</td>\n      <td>...</td>\n      <td>...</td>\n      <td>...</td>\n    </tr>\n    <tr>\n      <th>9411809</th>\n      <td>glgve5w</td>\n      <td>Viewfromthe31stfloor</td>\n      <td></td>\n      <td>-1</td>\n      <td>0</td>\n      <td>1612088664</td>\n      <td>comment</td>\n    </tr>\n    <tr>\n      <th>9412094</th>\n      <td>glgzwxu</td>\n      <td>Viewfromthe31stfloor</td>\n      <td></td>\n      <td>2</td>\n      <td>0</td>\n      <td>1612093114</td>\n      <td>comment</td>\n    </tr>\n    <tr>\n      <th>9412200</th>\n      <td>glh1zdh</td>\n      <td>Pixel3aXL</td>\n      <td></td>\n      <td>1</td>\n      <td>0</td>\n      <td>1612095081</td>\n      <td>comment</td>\n    </tr>\n    <tr>\n      <th>9412259</th>\n      <td>glh33fd</td>\n      <td>Charlatanism</td>\n      <td></td>\n      <td>3</td>\n      <td>0</td>\n      <td>1612096101</td>\n      <td>comment</td>\n    </tr>\n    <tr>\n      <th>9412588</th>\n      <td>glh9tyn</td>\n      <td>UncleLongHair0</td>\n      <td></td>\n      <td>1</td>\n      <td>0</td>\n      <td>1612101280</td>\n      <td>comment</td>\n    </tr>\n  </tbody>\n</table>\n<p>60831 rows × 7 columns</p>\n</div>"
     },
     "metadata": {},
     "execution_count": 103
    }
   ],
   "source": [
    "# Remove rows with empty strings\n",
    "df2.loc[df2.body == '', 'label'] = 'empty'"
   ]
  },
  {
   "cell_type": "code",
   "execution_count": 116,
   "metadata": {},
   "outputs": [],
   "source": [
    "df.update(df2.label)"
   ]
  },
  {
   "source": [
    "## Visualisation of comment dataset\n",
    "-----"
   ],
   "cell_type": "markdown",
   "metadata": {}
  },
  {
   "cell_type": "code",
   "execution_count": 14,
   "metadata": {},
   "outputs": [],
   "source": [
    "df_pie = df.groupby('label').size().reset_index(drop=False, name='size')"
   ]
  },
  {
   "cell_type": "code",
   "execution_count": 15,
   "metadata": {},
   "outputs": [
    {
     "output_type": "execute_result",
     "data": {
      "text/plain": [
       "       label     size\n",
       "0        bot   322700\n",
       "1    comment  8499244\n",
       "2    deleted   120402\n",
       "3  duplicate    87550\n",
       "4      empty    60831\n",
       "5    removed   322604"
      ],
      "text/html": "<div>\n<style scoped>\n    .dataframe tbody tr th:only-of-type {\n        vertical-align: middle;\n    }\n\n    .dataframe tbody tr th {\n        vertical-align: top;\n    }\n\n    .dataframe thead th {\n        text-align: right;\n    }\n</style>\n<table border=\"1\" class=\"dataframe\">\n  <thead>\n    <tr style=\"text-align: right;\">\n      <th></th>\n      <th>label</th>\n      <th>size</th>\n    </tr>\n  </thead>\n  <tbody>\n    <tr>\n      <th>0</th>\n      <td>bot</td>\n      <td>322700</td>\n    </tr>\n    <tr>\n      <th>1</th>\n      <td>comment</td>\n      <td>8499244</td>\n    </tr>\n    <tr>\n      <th>2</th>\n      <td>deleted</td>\n      <td>120402</td>\n    </tr>\n    <tr>\n      <th>3</th>\n      <td>duplicate</td>\n      <td>87550</td>\n    </tr>\n    <tr>\n      <th>4</th>\n      <td>empty</td>\n      <td>60831</td>\n    </tr>\n    <tr>\n      <th>5</th>\n      <td>removed</td>\n      <td>322604</td>\n    </tr>\n  </tbody>\n</table>\n</div>"
     },
     "metadata": {},
     "execution_count": 15
    }
   ],
   "source": [
    "df_pie"
   ]
  },
  {
   "cell_type": "code",
   "execution_count": 57,
   "metadata": {},
   "outputs": [
    {
     "output_type": "display_data",
     "data": {
      "application/vnd.plotly.v1+json": {
       "config": {
        "plotlyServerURL": "https://plot.ly"
       },
       "data": [
        {
         "customdata": [
          [
           "bot"
          ],
          [
           "comment"
          ],
          [
           "deleted"
          ],
          [
           "duplicate"
          ],
          [
           "empty"
          ],
          [
           "removed"
          ]
         ],
         "domain": {
          "x": [
           0,
           1
          ],
          "y": [
           0,
           1
          ]
         },
         "hovertemplate": "label=%{customdata[0]}<br>size=%{value}<extra></extra>",
         "labels": [
          "bot",
          "comment",
          "deleted",
          "duplicate",
          "empty",
          "removed"
         ],
         "legendgroup": "",
         "marker": {
          "colors": [
           "rgb(3, 35, 51)",
           "rgb(13, 48, 100)",
           "rgb(53, 50, 155)",
           "rgb(93, 62, 153)",
           "rgb(126, 77, 143)",
           "rgb(158, 89, 135)"
          ]
         },
         "name": "",
         "showlegend": true,
         "type": "pie",
         "values": [
          322700,
          8499244,
          120402,
          87550,
          60831,
          322604
         ]
        }
       ],
       "layout": {
        "height": 500,
        "legend": {
         "tracegroupgap": 0
        },
        "piecolorway": [
         "rgb(3, 35, 51)",
         "rgb(13, 48, 100)",
         "rgb(53, 50, 155)",
         "rgb(93, 62, 153)",
         "rgb(126, 77, 143)",
         "rgb(158, 89, 135)",
         "rgb(193, 100, 121)",
         "rgb(225, 113, 97)",
         "rgb(246, 139, 69)",
         "rgb(251, 173, 60)",
         "rgb(246, 211, 70)",
         "rgb(231, 250, 90)"
        ],
        "template": {
         "data": {
          "bar": [
           {
            "error_x": {
             "color": "#2a3f5f"
            },
            "error_y": {
             "color": "#2a3f5f"
            },
            "marker": {
             "line": {
              "color": "#E5ECF6",
              "width": 0.5
             }
            },
            "type": "bar"
           }
          ],
          "barpolar": [
           {
            "marker": {
             "line": {
              "color": "#E5ECF6",
              "width": 0.5
             }
            },
            "type": "barpolar"
           }
          ],
          "carpet": [
           {
            "aaxis": {
             "endlinecolor": "#2a3f5f",
             "gridcolor": "white",
             "linecolor": "white",
             "minorgridcolor": "white",
             "startlinecolor": "#2a3f5f"
            },
            "baxis": {
             "endlinecolor": "#2a3f5f",
             "gridcolor": "white",
             "linecolor": "white",
             "minorgridcolor": "white",
             "startlinecolor": "#2a3f5f"
            },
            "type": "carpet"
           }
          ],
          "choropleth": [
           {
            "colorbar": {
             "outlinewidth": 0,
             "ticks": ""
            },
            "type": "choropleth"
           }
          ],
          "contour": [
           {
            "colorbar": {
             "outlinewidth": 0,
             "ticks": ""
            },
            "colorscale": [
             [
              0,
              "#0d0887"
             ],
             [
              0.1111111111111111,
              "#46039f"
             ],
             [
              0.2222222222222222,
              "#7201a8"
             ],
             [
              0.3333333333333333,
              "#9c179e"
             ],
             [
              0.4444444444444444,
              "#bd3786"
             ],
             [
              0.5555555555555556,
              "#d8576b"
             ],
             [
              0.6666666666666666,
              "#ed7953"
             ],
             [
              0.7777777777777778,
              "#fb9f3a"
             ],
             [
              0.8888888888888888,
              "#fdca26"
             ],
             [
              1,
              "#f0f921"
             ]
            ],
            "type": "contour"
           }
          ],
          "contourcarpet": [
           {
            "colorbar": {
             "outlinewidth": 0,
             "ticks": ""
            },
            "type": "contourcarpet"
           }
          ],
          "heatmap": [
           {
            "colorbar": {
             "outlinewidth": 0,
             "ticks": ""
            },
            "colorscale": [
             [
              0,
              "#0d0887"
             ],
             [
              0.1111111111111111,
              "#46039f"
             ],
             [
              0.2222222222222222,
              "#7201a8"
             ],
             [
              0.3333333333333333,
              "#9c179e"
             ],
             [
              0.4444444444444444,
              "#bd3786"
             ],
             [
              0.5555555555555556,
              "#d8576b"
             ],
             [
              0.6666666666666666,
              "#ed7953"
             ],
             [
              0.7777777777777778,
              "#fb9f3a"
             ],
             [
              0.8888888888888888,
              "#fdca26"
             ],
             [
              1,
              "#f0f921"
             ]
            ],
            "type": "heatmap"
           }
          ],
          "heatmapgl": [
           {
            "colorbar": {
             "outlinewidth": 0,
             "ticks": ""
            },
            "colorscale": [
             [
              0,
              "#0d0887"
             ],
             [
              0.1111111111111111,
              "#46039f"
             ],
             [
              0.2222222222222222,
              "#7201a8"
             ],
             [
              0.3333333333333333,
              "#9c179e"
             ],
             [
              0.4444444444444444,
              "#bd3786"
             ],
             [
              0.5555555555555556,
              "#d8576b"
             ],
             [
              0.6666666666666666,
              "#ed7953"
             ],
             [
              0.7777777777777778,
              "#fb9f3a"
             ],
             [
              0.8888888888888888,
              "#fdca26"
             ],
             [
              1,
              "#f0f921"
             ]
            ],
            "type": "heatmapgl"
           }
          ],
          "histogram": [
           {
            "marker": {
             "colorbar": {
              "outlinewidth": 0,
              "ticks": ""
             }
            },
            "type": "histogram"
           }
          ],
          "histogram2d": [
           {
            "colorbar": {
             "outlinewidth": 0,
             "ticks": ""
            },
            "colorscale": [
             [
              0,
              "#0d0887"
             ],
             [
              0.1111111111111111,
              "#46039f"
             ],
             [
              0.2222222222222222,
              "#7201a8"
             ],
             [
              0.3333333333333333,
              "#9c179e"
             ],
             [
              0.4444444444444444,
              "#bd3786"
             ],
             [
              0.5555555555555556,
              "#d8576b"
             ],
             [
              0.6666666666666666,
              "#ed7953"
             ],
             [
              0.7777777777777778,
              "#fb9f3a"
             ],
             [
              0.8888888888888888,
              "#fdca26"
             ],
             [
              1,
              "#f0f921"
             ]
            ],
            "type": "histogram2d"
           }
          ],
          "histogram2dcontour": [
           {
            "colorbar": {
             "outlinewidth": 0,
             "ticks": ""
            },
            "colorscale": [
             [
              0,
              "#0d0887"
             ],
             [
              0.1111111111111111,
              "#46039f"
             ],
             [
              0.2222222222222222,
              "#7201a8"
             ],
             [
              0.3333333333333333,
              "#9c179e"
             ],
             [
              0.4444444444444444,
              "#bd3786"
             ],
             [
              0.5555555555555556,
              "#d8576b"
             ],
             [
              0.6666666666666666,
              "#ed7953"
             ],
             [
              0.7777777777777778,
              "#fb9f3a"
             ],
             [
              0.8888888888888888,
              "#fdca26"
             ],
             [
              1,
              "#f0f921"
             ]
            ],
            "type": "histogram2dcontour"
           }
          ],
          "mesh3d": [
           {
            "colorbar": {
             "outlinewidth": 0,
             "ticks": ""
            },
            "type": "mesh3d"
           }
          ],
          "parcoords": [
           {
            "line": {
             "colorbar": {
              "outlinewidth": 0,
              "ticks": ""
             }
            },
            "type": "parcoords"
           }
          ],
          "pie": [
           {
            "automargin": true,
            "type": "pie"
           }
          ],
          "scatter": [
           {
            "marker": {
             "colorbar": {
              "outlinewidth": 0,
              "ticks": ""
             }
            },
            "type": "scatter"
           }
          ],
          "scatter3d": [
           {
            "line": {
             "colorbar": {
              "outlinewidth": 0,
              "ticks": ""
             }
            },
            "marker": {
             "colorbar": {
              "outlinewidth": 0,
              "ticks": ""
             }
            },
            "type": "scatter3d"
           }
          ],
          "scattercarpet": [
           {
            "marker": {
             "colorbar": {
              "outlinewidth": 0,
              "ticks": ""
             }
            },
            "type": "scattercarpet"
           }
          ],
          "scattergeo": [
           {
            "marker": {
             "colorbar": {
              "outlinewidth": 0,
              "ticks": ""
             }
            },
            "type": "scattergeo"
           }
          ],
          "scattergl": [
           {
            "marker": {
             "colorbar": {
              "outlinewidth": 0,
              "ticks": ""
             }
            },
            "type": "scattergl"
           }
          ],
          "scattermapbox": [
           {
            "marker": {
             "colorbar": {
              "outlinewidth": 0,
              "ticks": ""
             }
            },
            "type": "scattermapbox"
           }
          ],
          "scatterpolar": [
           {
            "marker": {
             "colorbar": {
              "outlinewidth": 0,
              "ticks": ""
             }
            },
            "type": "scatterpolar"
           }
          ],
          "scatterpolargl": [
           {
            "marker": {
             "colorbar": {
              "outlinewidth": 0,
              "ticks": ""
             }
            },
            "type": "scatterpolargl"
           }
          ],
          "scatterternary": [
           {
            "marker": {
             "colorbar": {
              "outlinewidth": 0,
              "ticks": ""
             }
            },
            "type": "scatterternary"
           }
          ],
          "surface": [
           {
            "colorbar": {
             "outlinewidth": 0,
             "ticks": ""
            },
            "colorscale": [
             [
              0,
              "#0d0887"
             ],
             [
              0.1111111111111111,
              "#46039f"
             ],
             [
              0.2222222222222222,
              "#7201a8"
             ],
             [
              0.3333333333333333,
              "#9c179e"
             ],
             [
              0.4444444444444444,
              "#bd3786"
             ],
             [
              0.5555555555555556,
              "#d8576b"
             ],
             [
              0.6666666666666666,
              "#ed7953"
             ],
             [
              0.7777777777777778,
              "#fb9f3a"
             ],
             [
              0.8888888888888888,
              "#fdca26"
             ],
             [
              1,
              "#f0f921"
             ]
            ],
            "type": "surface"
           }
          ],
          "table": [
           {
            "cells": {
             "fill": {
              "color": "#EBF0F8"
             },
             "line": {
              "color": "white"
             }
            },
            "header": {
             "fill": {
              "color": "#C8D4E3"
             },
             "line": {
              "color": "white"
             }
            },
            "type": "table"
           }
          ]
         },
         "layout": {
          "annotationdefaults": {
           "arrowcolor": "#2a3f5f",
           "arrowhead": 0,
           "arrowwidth": 1
          },
          "coloraxis": {
           "colorbar": {
            "outlinewidth": 0,
            "ticks": ""
           }
          },
          "colorscale": {
           "diverging": [
            [
             0,
             "#8e0152"
            ],
            [
             0.1,
             "#c51b7d"
            ],
            [
             0.2,
             "#de77ae"
            ],
            [
             0.3,
             "#f1b6da"
            ],
            [
             0.4,
             "#fde0ef"
            ],
            [
             0.5,
             "#f7f7f7"
            ],
            [
             0.6,
             "#e6f5d0"
            ],
            [
             0.7,
             "#b8e186"
            ],
            [
             0.8,
             "#7fbc41"
            ],
            [
             0.9,
             "#4d9221"
            ],
            [
             1,
             "#276419"
            ]
           ],
           "sequential": [
            [
             0,
             "#0d0887"
            ],
            [
             0.1111111111111111,
             "#46039f"
            ],
            [
             0.2222222222222222,
             "#7201a8"
            ],
            [
             0.3333333333333333,
             "#9c179e"
            ],
            [
             0.4444444444444444,
             "#bd3786"
            ],
            [
             0.5555555555555556,
             "#d8576b"
            ],
            [
             0.6666666666666666,
             "#ed7953"
            ],
            [
             0.7777777777777778,
             "#fb9f3a"
            ],
            [
             0.8888888888888888,
             "#fdca26"
            ],
            [
             1,
             "#f0f921"
            ]
           ],
           "sequentialminus": [
            [
             0,
             "#0d0887"
            ],
            [
             0.1111111111111111,
             "#46039f"
            ],
            [
             0.2222222222222222,
             "#7201a8"
            ],
            [
             0.3333333333333333,
             "#9c179e"
            ],
            [
             0.4444444444444444,
             "#bd3786"
            ],
            [
             0.5555555555555556,
             "#d8576b"
            ],
            [
             0.6666666666666666,
             "#ed7953"
            ],
            [
             0.7777777777777778,
             "#fb9f3a"
            ],
            [
             0.8888888888888888,
             "#fdca26"
            ],
            [
             1,
             "#f0f921"
            ]
           ]
          },
          "colorway": [
           "#636efa",
           "#EF553B",
           "#00cc96",
           "#ab63fa",
           "#FFA15A",
           "#19d3f3",
           "#FF6692",
           "#B6E880",
           "#FF97FF",
           "#FECB52"
          ],
          "font": {
           "color": "#2a3f5f"
          },
          "geo": {
           "bgcolor": "white",
           "lakecolor": "white",
           "landcolor": "#E5ECF6",
           "showlakes": true,
           "showland": true,
           "subunitcolor": "white"
          },
          "hoverlabel": {
           "align": "left"
          },
          "hovermode": "closest",
          "mapbox": {
           "style": "light"
          },
          "paper_bgcolor": "white",
          "plot_bgcolor": "#E5ECF6",
          "polar": {
           "angularaxis": {
            "gridcolor": "white",
            "linecolor": "white",
            "ticks": ""
           },
           "bgcolor": "#E5ECF6",
           "radialaxis": {
            "gridcolor": "white",
            "linecolor": "white",
            "ticks": ""
           }
          },
          "scene": {
           "xaxis": {
            "backgroundcolor": "#E5ECF6",
            "gridcolor": "white",
            "gridwidth": 2,
            "linecolor": "white",
            "showbackground": true,
            "ticks": "",
            "zerolinecolor": "white"
           },
           "yaxis": {
            "backgroundcolor": "#E5ECF6",
            "gridcolor": "white",
            "gridwidth": 2,
            "linecolor": "white",
            "showbackground": true,
            "ticks": "",
            "zerolinecolor": "white"
           },
           "zaxis": {
            "backgroundcolor": "#E5ECF6",
            "gridcolor": "white",
            "gridwidth": 2,
            "linecolor": "white",
            "showbackground": true,
            "ticks": "",
            "zerolinecolor": "white"
           }
          },
          "shapedefaults": {
           "line": {
            "color": "#2a3f5f"
           }
          },
          "ternary": {
           "aaxis": {
            "gridcolor": "white",
            "linecolor": "white",
            "ticks": ""
           },
           "baxis": {
            "gridcolor": "white",
            "linecolor": "white",
            "ticks": ""
           },
           "bgcolor": "#E5ECF6",
           "caxis": {
            "gridcolor": "white",
            "linecolor": "white",
            "ticks": ""
           }
          },
          "title": {
           "x": 0.05
          },
          "xaxis": {
           "automargin": true,
           "gridcolor": "white",
           "linecolor": "white",
           "ticks": "",
           "title": {
            "standoff": 15
           },
           "zerolinecolor": "white",
           "zerolinewidth": 2
          },
          "yaxis": {
           "automargin": true,
           "gridcolor": "white",
           "linecolor": "white",
           "ticks": "",
           "title": {
            "standoff": 15
           },
           "zerolinecolor": "white",
           "zerolinewidth": 2
          }
         }
        },
        "title": {
         "text": "Comment distribution"
        },
        "width": 500
       }
      }
     },
     "metadata": {}
    }
   ],
   "source": [
    "fig = px.pie(df_pie, values='size', names='label', color='label', color_discrete_sequence=px.colors.sequential.thermal, title='Comment distribution', width=500, height=500)\n",
    "\n",
    "fig.show()"
   ]
  },
  {
   "source": [
    "-----"
   ],
   "cell_type": "markdown",
   "metadata": {}
  },
  {
   "cell_type": "code",
   "execution_count": 130,
   "metadata": {},
   "outputs": [],
   "source": [
    "df_comments = df2[df.label == 'comment']"
   ]
  },
  {
   "cell_type": "code",
   "execution_count": 122,
   "metadata": {},
   "outputs": [],
   "source": [
    "def timestamp_to_yearmonth(ts):\n",
    "    return datetime.datetime.fromtimestamp(ts).strftime('%Y-%m')\n",
    "def timestamp_to_week(ts):\n",
    "    return datetime.datetime.fromtimestamp(ts).strftime('%Y-Wk%W')"
   ]
  },
  {
   "source": [
    "df_comments['month'] = df_comments['created_utc'].map(timestamp_to_yearmonth)\r\n",
    "df_comments['week'] = df_comments['created_utc'].map(timestamp_to_week)"
   ],
   "cell_type": "code",
   "metadata": {},
   "execution_count": null,
   "outputs": []
  },
  {
   "cell_type": "code",
   "execution_count": 136,
   "metadata": {},
   "outputs": [],
   "source": [
    "df_comments.to_pickle('comments_processed_preSA.pkl')"
   ]
  }
 ]
}