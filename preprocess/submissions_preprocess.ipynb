{
 "metadata": {
  "language_info": {
   "codemirror_mode": {
    "name": "ipython",
    "version": 3
   },
   "file_extension": ".py",
   "mimetype": "text/x-python",
   "name": "python",
   "nbconvert_exporter": "python",
   "pygments_lexer": "ipython3",
   "version": "3.7.6"
  },
  "orig_nbformat": 2,
  "kernelspec": {
   "name": "python376jvsc74a57bd07839cf4c65842d51d8727e8d31cc7b71e238461db52811f472cb074731c49f23",
   "display_name": "Python 3.7.6 64-bit ('base': conda)"
  }
 },
 "nbformat": 4,
 "nbformat_minor": 2,
 "cells": [
  {
   "cell_type": "code",
   "execution_count": 1,
   "metadata": {},
   "outputs": [],
   "source": [
    "import pandas as pd\n",
    "import re\n",
    "from unidecode import unidecode\n",
    "import datetime\n",
    "from langdetect import detect\n",
    "\n",
    "pd.set_option('max_colwidth', None)"
   ]
  },
  {
   "source": [
    "df = pd.read_csv('dataset\\csv\\coronavirus_submissions.csv')\n",
    "df.columns"
   ],
   "cell_type": "code",
   "metadata": {},
   "execution_count": 2,
   "outputs": [
    {
     "output_type": "execute_result",
     "data": {
      "text/plain": [
       "Index(['id', 'title', 'author', 'created_utc', 'domain', 'full_link',\n",
       "       'num_comments', 'score', 'total_awards_received', 'is_self',\n",
       "       'subreddit_subscribers'],\n",
       "      dtype='object')"
      ]
     },
     "metadata": {},
     "execution_count": 2
    }
   ]
  },
  {
   "source": [
    "### Remove daily/automatic posts\n",
    "-----"
   ],
   "cell_type": "markdown",
   "metadata": {}
  },
  {
   "cell_type": "code",
   "execution_count": 4,
   "metadata": {},
   "outputs": [
    {
     "output_type": "execute_result",
     "data": {
      "text/plain": [
       "(356322, 11)"
      ]
     },
     "metadata": {},
     "execution_count": 4
    }
   ],
   "source": [
    "# Remove daily subreddit threads\n",
    "df2 = df.drop(index = df[df['title'].str.contains(r'Daily Discussion|Daily General|Science Sticky')].index)\n",
    "df2.shape"
   ]
  },
  {
   "source": [
    "### Make a dataframe copy with subset of necessary columns\n",
    "-----"
   ],
   "cell_type": "markdown",
   "metadata": {}
  },
  {
   "cell_type": "code",
   "execution_count": 5,
   "metadata": {},
   "outputs": [],
   "source": [
    "df3 = df2[['id', 'score', 'num_comments', 'created_utc', 'title']]"
   ]
  },
  {
   "source": [
    "df3.head()"
   ],
   "cell_type": "code",
   "metadata": {},
   "execution_count": 6,
   "outputs": [
    {
     "output_type": "execute_result",
     "data": {
      "text/plain": [
       "       id  score  num_comments  created_utc  \\\n",
       "0  erj61t  1      94            1579552351    \n",
       "1  es0m55  1      32            1579638986    \n",
       "2  es1pn4  1      23            1579643380    \n",
       "3  es2ooq  1      1             1579647443    \n",
       "4  es7jnl  1      1             1579671329    \n",
       "\n",
       "                                                                                                                 title  \n",
       "0  When should we start to get worried about the new outbreak?                                                          \n",
       "1  When the first reported US case of the new Chinese Coronavirus is in your state, and really close to where you live  \n",
       "2  Yikes                                                                                                                \n",
       "3  Join r/China_Flu, dedicated to monitoring current China outbreak 2019-nCoV                                           \n",
       "4  #plague2020                                                                                                          "
      ],
      "text/html": "<div>\n<style scoped>\n    .dataframe tbody tr th:only-of-type {\n        vertical-align: middle;\n    }\n\n    .dataframe tbody tr th {\n        vertical-align: top;\n    }\n\n    .dataframe thead th {\n        text-align: right;\n    }\n</style>\n<table border=\"1\" class=\"dataframe\">\n  <thead>\n    <tr style=\"text-align: right;\">\n      <th></th>\n      <th>id</th>\n      <th>score</th>\n      <th>num_comments</th>\n      <th>created_utc</th>\n      <th>title</th>\n    </tr>\n  </thead>\n  <tbody>\n    <tr>\n      <th>0</th>\n      <td>erj61t</td>\n      <td>1</td>\n      <td>94</td>\n      <td>1579552351</td>\n      <td>When should we start to get worried about the new outbreak?</td>\n    </tr>\n    <tr>\n      <th>1</th>\n      <td>es0m55</td>\n      <td>1</td>\n      <td>32</td>\n      <td>1579638986</td>\n      <td>When the first reported US case of the new Chinese Coronavirus is in your state, and really close to where you live</td>\n    </tr>\n    <tr>\n      <th>2</th>\n      <td>es1pn4</td>\n      <td>1</td>\n      <td>23</td>\n      <td>1579643380</td>\n      <td>Yikes</td>\n    </tr>\n    <tr>\n      <th>3</th>\n      <td>es2ooq</td>\n      <td>1</td>\n      <td>1</td>\n      <td>1579647443</td>\n      <td>Join r/China_Flu, dedicated to monitoring current China outbreak 2019-nCoV</td>\n    </tr>\n    <tr>\n      <th>4</th>\n      <td>es7jnl</td>\n      <td>1</td>\n      <td>1</td>\n      <td>1579671329</td>\n      <td>#plague2020</td>\n    </tr>\n  </tbody>\n</table>\n</div>"
     },
     "metadata": {},
     "execution_count": 6
    }
   ]
  },
  {
   "cell_type": "code",
   "execution_count": 9,
   "metadata": {},
   "outputs": [],
   "source": [
    "# Convert:\n",
    "# '&amp': &, '&lt;': <, '&gt;': >\n",
    "df3['title'].replace(regex={r'&amp;': '&', r'&lt;': '<', r'&gt;': '>'}, inplace=True)"
   ]
  },
  {
   "cell_type": "code",
   "execution_count": 2,
   "metadata": {},
   "outputs": [],
   "source": [
    "'''\n",
    "Run cell for strip_tags function (to strip HTML tags)\n",
    "'''\n",
    "\n",
    "from io import StringIO\n",
    "from html.parser import HTMLParser\n",
    "\n",
    "class MLStripper(HTMLParser):\n",
    "    def __init__(self):\n",
    "        super().__init__()\n",
    "        self.reset()\n",
    "        self.strict = False\n",
    "        self.convert_charrefs= True\n",
    "        self.text = StringIO()\n",
    "    def handle_data(self, d):\n",
    "        self.text.write(d)\n",
    "    def get_data(self):\n",
    "        return self.text.getvalue()\n",
    "\n",
    "def strip_tags(html):\n",
    "    s = MLStripper()\n",
    "    s.feed(html)\n",
    "    return s.get_data()"
   ]
  },
  {
   "source": [
    "# Remove HTML tags\n",
    "df3['title'] = df3['title'].map(strip_tags)\n",
    "# Present unicode data in ASCII\n",
    "df3['title'] = df3['title'].map(unidecode)\n",
    "# Remove URLs\n",
    "df3['title'].replace(regex=r'http\\S+|www\\S+', value='', inplace=True)\n",
    "# Remove parenthesis (), brackets [], {} and the characters within\n",
    "df3['title'].replace(regex=r'[([{].*[)\\]}]', value='', inplace=True)\n",
    "# Replace curse words\n",
    "df3['title'].replace(regex={r'(s|S)[h$@#*%!]{2}(t|T)': 'shit', r'(f|F)[$@#*%!cC]{2}[$@#*%!kK]': 'fuck', r'(b|B)ulls?[^\\d\\s]{3,}': 'bullshit'}, inplace=True)\n",
    "# Standardise 'US' and 'UK'\n",
    "df3['title'].replace(regex={r'\\b(USA|U.S.A|u.s|usa)\\b': 'US', r'\\b(uk|U.K|u.k)\\b': 'UK'}, inplace=True)\n",
    "# Remove email addresses\n",
    "df3['title'].replace(regex={r'\\S+@\\w+(\\.\\w+)+': ''}, inplace=True)\n",
    "# Remove @handles e.g. @ABC. Preserves tags like Folding@Home\n",
    "df3['title'].replace(regex={r'\\B@': ''}, inplace=True)\n",
    "# Remove all single and double quotes, except contractions\n",
    "df3['title'].replace(regex={r'[\\'\\\"]\\B|\\B[\\'\\\"]|(\\d+[\\'\\\"])+(\\d*)': ''}, inplace=True)\n",
    "# Replace the rest of special characters and digits with space\n",
    "df3['title'].replace(regex={r'[^A-Za-z !?\\']': ' '}, inplace=True)\n",
    "# Remove excess whitespace\n",
    "df3['title'] = df3['title'].str.strip()\n",
    "df3['title'].replace(regex={r'\\s{2,}': ' '}, inplace=True)\n",
    "\n",
    "df3.head()"
   ],
   "cell_type": "code",
   "metadata": {},
   "execution_count": 11,
   "outputs": [
    {
     "output_type": "execute_result",
     "data": {
      "text/plain": [
       "       id  score  num_comments  created_utc  \\\n",
       "0  erj61t  1      94            1579552351    \n",
       "1  es0m55  1      32            1579638986    \n",
       "2  es1pn4  1      23            1579643380    \n",
       "3  es2ooq  1      1             1579647443    \n",
       "4  es7jnl  1      1             1579671329    \n",
       "\n",
       "                                                                                                                title  \n",
       "0  When should we start to get worried about the new outbreak?                                                         \n",
       "1  When the first reported US case of the new Chinese Coronavirus is in your state and really close to where you live  \n",
       "2  Yikes                                                                                                               \n",
       "3  Join r China Flu dedicated to monitoring current China outbreak nCoV                                                \n",
       "4  plague                                                                                                              "
      ],
      "text/html": "<div>\n<style scoped>\n    .dataframe tbody tr th:only-of-type {\n        vertical-align: middle;\n    }\n\n    .dataframe tbody tr th {\n        vertical-align: top;\n    }\n\n    .dataframe thead th {\n        text-align: right;\n    }\n</style>\n<table border=\"1\" class=\"dataframe\">\n  <thead>\n    <tr style=\"text-align: right;\">\n      <th></th>\n      <th>id</th>\n      <th>score</th>\n      <th>num_comments</th>\n      <th>created_utc</th>\n      <th>title</th>\n    </tr>\n  </thead>\n  <tbody>\n    <tr>\n      <th>0</th>\n      <td>erj61t</td>\n      <td>1</td>\n      <td>94</td>\n      <td>1579552351</td>\n      <td>When should we start to get worried about the new outbreak?</td>\n    </tr>\n    <tr>\n      <th>1</th>\n      <td>es0m55</td>\n      <td>1</td>\n      <td>32</td>\n      <td>1579638986</td>\n      <td>When the first reported US case of the new Chinese Coronavirus is in your state and really close to where you live</td>\n    </tr>\n    <tr>\n      <th>2</th>\n      <td>es1pn4</td>\n      <td>1</td>\n      <td>23</td>\n      <td>1579643380</td>\n      <td>Yikes</td>\n    </tr>\n    <tr>\n      <th>3</th>\n      <td>es2ooq</td>\n      <td>1</td>\n      <td>1</td>\n      <td>1579647443</td>\n      <td>Join r China Flu dedicated to monitoring current China outbreak nCoV</td>\n    </tr>\n    <tr>\n      <th>4</th>\n      <td>es7jnl</td>\n      <td>1</td>\n      <td>1</td>\n      <td>1579671329</td>\n      <td>plague</td>\n    </tr>\n  </tbody>\n</table>\n</div>"
     },
     "metadata": {},
     "execution_count": 11
    }
   ]
  },
  {
   "source": [
    "# Remove rows with empty strings\n",
    "df4 = df3[df3['title'].astype(bool)]\n",
    "df4.shape"
   ],
   "cell_type": "code",
   "metadata": {},
   "execution_count": 12,
   "outputs": [
    {
     "output_type": "execute_result",
     "data": {
      "text/plain": [
       "(355458, 5)"
      ]
     },
     "metadata": {},
     "execution_count": 12
    }
   ]
  },
  {
   "source": [
    "## Remove submissions that are not in English\n",
    "-----"
   ],
   "cell_type": "markdown",
   "metadata": {}
  },
  {
   "cell_type": "code",
   "execution_count": null,
   "metadata": {},
   "outputs": [],
   "source": [
    "'''\n",
    "- Detect and categorise language\n",
    "- Time-consuming process\n",
    "- Exception will be called if 'text' only contains special characters like '!','?' which are retained for VADER\n",
    "'''\n",
    "def label_language(text):\n",
    "    try:\n",
    "        return detect(text)\n",
    "    except:\n",
    "        return 0"
   ]
  },
  {
   "cell_type": "code",
   "execution_count": null,
   "metadata": {},
   "outputs": [],
   "source": [
    "df4['language'] = df4['title'].map(label_language)\n",
    "df4['language'].unique()"
   ]
  },
  {
   "cell_type": "code",
   "execution_count": null,
   "metadata": {},
   "outputs": [],
   "source": [
    "# retain submissions in english\n",
    "df4 = df4[df4['language'] == 'en']\n",
    "df4.shape"
   ]
  },
  {
   "source": [
    "-----"
   ],
   "cell_type": "markdown",
   "metadata": {}
  },
  {
   "cell_type": "code",
   "execution_count": 14,
   "metadata": {},
   "outputs": [],
   "source": [
    "def timestamp_to_yearmonth(ts):\n",
    "    return datetime.datetime.fromtimestamp(ts).strftime('%Y-%m')\n",
    "def timestamp_to_week(ts):\n",
    "    return datetime.datetime.fromtimestamp(ts).strftime('%Y-Wk%W')"
   ]
  },
  {
   "source": [
    "df4['month'] = df4['created_utc'].map(timestamp_to_yearmonth)\n",
    "df4['week'] = df4['created_utc'].map(timestamp_to_week)\n",
    "df4.head()"
   ],
   "cell_type": "code",
   "metadata": {},
   "execution_count": null,
   "outputs": []
  },
  {
   "cell_type": "code",
   "execution_count": 17,
   "metadata": {},
   "outputs": [],
   "source": [
    "df4.to_pickle('submissions_processed_preSA.pkl')"
   ]
  }
 ]
}