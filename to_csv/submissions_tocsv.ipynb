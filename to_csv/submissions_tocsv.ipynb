{
 "metadata": {
  "language_info": {
   "codemirror_mode": {
    "name": "ipython",
    "version": 3
   },
   "file_extension": ".py",
   "mimetype": "text/x-python",
   "name": "python",
   "nbconvert_exporter": "python",
   "pygments_lexer": "ipython3",
   "version": 3
  },
  "orig_nbformat": 2
 },
 "nbformat": 4,
 "nbformat_minor": 2,
 "cells": [
  {
   "cell_type": "code",
   "execution_count": null,
   "metadata": {},
   "outputs": [],
   "source": [
    "import json\n",
    "import pandas as pd\n",
    "import csv"
   ]
  },
  {
   "cell_type": "code",
   "execution_count": null,
   "metadata": {},
   "outputs": [],
   "source": [
    "# Open JSON dataset\n",
    "with open('submissions_dataset.json') as json_file:\n",
    "    json_list = list(json_file)\n",
    "\n",
    "# Create new file to write to\n",
    "newfile = open('coronavirus_submissions.csv', 'w', encoding='utf-8', newline='')\n",
    "csv_writer = csv.writer(newfile)\n",
    "\n",
    "# Initialise columns\n",
    "csv_writer.writerow([\"id\",\"title\",\"author\", \"created_utc\", \"domain\", \"full_link\", \"num_comments\", \"score\",\"total_awards_received\", \"is_self\", \"subreddit_subscribers\"])"
   ]
  },
  {
   "cell_type": "code",
   "execution_count": null,
   "metadata": {},
   "outputs": [],
   "source": [
    "for json_str in json_list:\n",
    "    # convert string to json object\n",
    "    result = json.loads(json_str)\n",
    "    # row data\n",
    "    id = result['id']\n",
    "    title = result['title']\n",
    "    author = result['author']\n",
    "    created_utc = result['created_utc']\n",
    "    domain = result['domain']\n",
    "    full_link = result['full_link']\n",
    "    num_comments = result['num_comments']\n",
    "    score = result['score']\n",
    "    total_awards_received = result['total_awards_received']\n",
    "    is_self = result['is_self']\n",
    "    subreddit_subscribers = result['subreddit_subscribers']\n",
    "    csv_writer.writerow([id, title, author, created_utc, domain, full_link, num_comments, score, total_awards_received, is_self, subreddit_subscribers])\n",
    "    \n",
    "newfile.close()"
   ]
  }
 ]
}