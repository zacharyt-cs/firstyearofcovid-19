{
 "metadata": {
  "language_info": {
   "codemirror_mode": {
    "name": "ipython",
    "version": 3
   },
   "file_extension": ".py",
   "mimetype": "text/x-python",
   "name": "python",
   "nbconvert_exporter": "python",
   "pygments_lexer": "ipython3",
   "version": 3
  },
  "orig_nbformat": 2
 },
 "nbformat": 4,
 "nbformat_minor": 2,
 "cells": [
  {
   "cell_type": "code",
   "execution_count": null,
   "metadata": {},
   "outputs": [],
   "source": [
    "import json\n",
    "import pandas as pd\n",
    "import csv"
   ]
  },
  {
   "cell_type": "code",
   "execution_count": null,
   "metadata": {},
   "outputs": [],
   "source": [
    "# Open JSON dataset\n",
    "with open('comments_dataset.json') as json_file:\n",
    "    json_list = list(json_file)\n",
    "\n",
    "# Create new file to write to\n",
    "newfile = open('coronavirus_comments.csv', 'w', encoding='utf-8', newline='')\n",
    "csv_writer = csv.writer(newfile)\n",
    "\n",
    "# Initialise columns\n",
    "csv_writer.writerow([\"id\", \"author\", \"body\", \"score\", \"total_awards_received\", \"created_utc\", \"parent_id\", \"permalink\"])"
   ]
  },
  {
   "cell_type": "code",
   "execution_count": null,
   "metadata": {},
   "outputs": [],
   "source": [
    "for json_str in json_list:\n",
    "    # convert string to json object\n",
    "    result = json.loads(json_str)\n",
    "    # row data\n",
    "    id = result['id']\n",
    "    author = result['author']\n",
    "    body = result['body']\n",
    "    score = result['score']\n",
    "    total_awards_received = result['total_awards_received']\n",
    "    created_utc = result['created_utc']\n",
    "    parent_id = result['parent_id']\n",
    "    permalink = result['permalink']\n",
    "    csv_writer.writerow([id, author, body, score, total_awards_received, created_utc, parent_id, permalink])\n",
    "    \n",
    "newfile.close()"
   ]
  }
 ]
}